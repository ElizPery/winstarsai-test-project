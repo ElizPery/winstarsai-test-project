{
 "cells": [
  {
   "cell_type": "markdown",
   "id": "6d918d95",
   "metadata": {},
   "source": [
    "# Import libraries"
   ]
  },
  {
   "cell_type": "markdown",
   "id": "f95b063d",
   "metadata": {},
   "source": [
    "Import all necessary libraries."
   ]
  },
  {
   "cell_type": "code",
   "execution_count": 11,
   "id": "3f6bee1d",
   "metadata": {},
   "outputs": [],
   "source": [
    "import sys\n",
    "import os\n",
    "import numpy as np\n",
    "from sklearn.model_selection import train_test_split\n",
    "from sklearn.metrics import accuracy_score\n",
    "import matplotlib.pyplot as plt"
   ]
  },
  {
   "cell_type": "markdown",
   "id": "a7185c1e",
   "metadata": {},
   "source": [
    "Now time to ensure that MnistClassifier and function load_and_transform_mnist_data is possible to import without errors."
   ]
  },
  {
   "cell_type": "code",
   "execution_count": 12,
   "id": "3f65db64",
   "metadata": {},
   "outputs": [
    {
     "name": "stdout",
     "output_type": "stream",
     "text": [
      "Successfully imported MnistClassifier.\n",
      "Successfully imported data loading helper.\n"
     ]
    }
   ],
   "source": [
    "# The import logic should work if 'mnist_classifier.py' is in the `src/utils/classes/` folder\n",
    "# and 'load_and_transform_mnist_data.py' is in the 'src/utils/' folder.\n",
    "try:\n",
    "    from src.utils.classes.mnist_classifier import MnistClassifier\n",
    "    print(\"Successfully imported MnistClassifier.\")\n",
    "except ImportError as e:\n",
    "    print(f\"Import Error: {e}\")\n",
    "    print(\"Ensure that 'src/utils/classes/mnist_classifier.py' is in the Python path.\")\n",
    "\n",
    "try:\n",
    "    from src.utils.load_and_transform_mnist_data import load_and_transform_mnist\n",
    "    print(\"Successfully imported data loading helper.\")\n",
    "except ImportError as e:\n",
    "    print(f\"Import Error: {e}\")\n",
    "    print(\"Ensure that 'src/utils/load_and_transform_mnist_data.py' is in the Python path.\")"
   ]
  },
  {
   "cell_type": "markdown",
   "id": "324d4d58",
   "metadata": {},
   "source": [
    "If error persists, please check the file paths and your PYTHONPATH environment variable.\n",
    "Then, import theese modules again."
   ]
  },
  {
   "cell_type": "code",
   "execution_count": 13,
   "id": "fb7cc14b",
   "metadata": {},
   "outputs": [],
   "source": [
    "from src.utils.classes.mnist_classifier import MnistClassifier\n",
    "from src.utils.load_and_transform_mnist_data import load_and_transform_mnist"
   ]
  },
  {
   "cell_type": "markdown",
   "id": "31016c14",
   "metadata": {},
   "source": [
    "# Data Loading and Splitting"
   ]
  },
  {
   "cell_type": "code",
   "execution_count": 14,
   "id": "566e91c1",
   "metadata": {},
   "outputs": [
    {
     "name": "stdout",
     "output_type": "stream",
     "text": [
      "Full Dataset Loaded: X_full shape (60000, 28, 28), y_full shape (60000,)\n"
     ]
    }
   ],
   "source": [
    "X_full, y_full, X_test = load_and_transform_mnist()\n",
    "print(f\"Full Dataset Loaded: X_full shape {X_full.shape}, y_full shape {y_full.shape}\")"
   ]
  },
  {
   "cell_type": "markdown",
   "id": "f6dd3a3a",
   "metadata": {},
   "source": [
    "After successful splitting the dataset, the subset for quick training is created (for instance 10000 samples)."
   ]
  },
  {
   "cell_type": "code",
   "execution_count": 15,
   "id": "9d7c7243",
   "metadata": {},
   "outputs": [
    {
     "name": "stdout",
     "output_type": "stream",
     "text": [
      "------------------------------\n",
      "Subset for Demo Training: (7000, 28, 28)\n",
      "Subset for Demo Validation: (3000, 28, 28)\n",
      "------------------------------\n"
     ]
    }
   ],
   "source": [
    "# Prepare a subset for quick training demo (e.g., 10000 samples)\n",
    "SAMPLE_SIZE = 10000\n",
    "TEST_SIZE = 0.3\n",
    "\n",
    "# Create the training/validation split from the subset\n",
    "X_train_sub, X_val, y_train_sub, y_val = train_test_split(\n",
    "    X_full[:SAMPLE_SIZE], y_full[:SAMPLE_SIZE], test_size=TEST_SIZE, random_state=42, stratify=y_full[:SAMPLE_SIZE]\n",
    ")\n",
    "\n",
    "print(\"-\" * 30)\n",
    "print(f\"Subset for Demo Training: {X_train_sub.shape}\")\n",
    "print(f\"Subset for Demo Validation: {X_val.shape}\")\n",
    "print(\"-\" * 30)"
   ]
  },
  {
   "cell_type": "markdown",
   "id": "a42521b6",
   "metadata": {},
   "source": [
    "# Random Forest Classifier (rf) Demo"
   ]
  },
  {
   "cell_type": "markdown",
   "id": "89429edd",
   "metadata": {},
   "source": [
    "After splitting the dataset, time to cteate instance of MnistClassifier class with algorithm='rf', train model and predict validation dataset."
   ]
  },
  {
   "cell_type": "code",
   "execution_count": 16,
   "id": "9b633bab",
   "metadata": {},
   "outputs": [
    {
     "name": "stdout",
     "output_type": "stream",
     "text": [
      "Training Random Forest...\n",
      "Random Forest training complete.\n",
      "\n",
      "Random Forest Accuracy on Validation Set: 89.97%\n",
      "Prediction output structure: (3000,) (Type: <class 'numpy.ndarray'>)\n"
     ]
    }
   ],
   "source": [
    "rf_classifier = MnistClassifier(algorithm='rf', n_estimators=10, random_state=42)\n",
    "\n",
    "# Train the model\n",
    "rf_classifier.train(X_train_sub, y_train_sub)\n",
    "\n",
    "# Make predictions on the validation set\n",
    "rf_predictions = rf_classifier.predict(X_val)\n",
    "\n",
    "# Evaluate performance\n",
    "rf_accuracy = accuracy_score(y_val, rf_predictions)\n",
    "print(f\"\\nRandom Forest Accuracy on Validation Set: {rf_accuracy * 100:.2f}%\")\n",
    "print(f\"Prediction output structure: {rf_predictions.shape} (Type: {type(rf_predictions)})\")"
   ]
  },
  {
   "cell_type": "markdown",
   "id": "c11b46cc",
   "metadata": {},
   "source": [
    "# Feed-Forward Neural Network (nn) Demo"
   ]
  },
  {
   "cell_type": "markdown",
   "id": "ef50e33b",
   "metadata": {},
   "source": [
    "Second algorithm to test is Feed-Forward Neural Network (algorithm='nn')."
   ]
  },
  {
   "cell_type": "code",
   "execution_count": 17,
   "id": "426cd70d",
   "metadata": {},
   "outputs": [
    {
     "name": "stdout",
     "output_type": "stream",
     "text": [
      "Training Feed-Forward Network for 3 epochs...\n",
      "Epoch [1/3], Loss: 0.3611\n",
      "Epoch [2/3], Loss: 0.0950\n",
      "Epoch [3/3], Loss: 0.1132\n",
      "Feed-Forward Network training complete.\n",
      "\n",
      "Feed-Forward NN Accuracy on Validation Set: 92.00%\n",
      "Prediction output structure: (3000,) (Type: <class 'numpy.ndarray'>)\n"
     ]
    }
   ],
   "source": [
    "# Using 3 epochs for a fast demonstration\n",
    "nn_classifier = MnistClassifier(algorithm='nn', hidden_size=64) \n",
    "\n",
    "# Train the model with specific PyTorch parameters\n",
    "nn_classifier.train(X_train_sub, y_train_sub, epochs=3, batch_size=128)\n",
    "\n",
    "# Make predictions on the validation set\n",
    "nn_predictions = nn_classifier.predict(X_val)\n",
    "\n",
    "# Evaluate performance\n",
    "nn_accuracy = accuracy_score(y_val, nn_predictions)\n",
    "print(f\"\\nFeed-Forward NN Accuracy on Validation Set: {nn_accuracy * 100:.2f}%\")\n",
    "print(f\"Prediction output structure: {nn_predictions.shape} (Type: {type(nn_predictions)})\")"
   ]
  },
  {
   "cell_type": "markdown",
   "id": "7d3deed2",
   "metadata": {},
   "source": [
    "# Convolutional Neural Network (cnn) Demo"
   ]
  },
  {
   "cell_type": "markdown",
   "id": "081e7351",
   "metadata": {},
   "source": [
    "Third algorithm to test is Convolutional Neural Network (algorithm='cnn')."
   ]
  },
  {
   "cell_type": "code",
   "execution_count": 18,
   "id": "e81260bf",
   "metadata": {},
   "outputs": [
    {
     "name": "stdout",
     "output_type": "stream",
     "text": [
      "Training CNN for 2 epochs...\n",
      "Epoch [1/2], Loss: 0.2985\n",
      "Epoch [2/2], Loss: 0.2505\n",
      "CNN training complete.\n",
      "\n",
      "CNN Accuracy on Validation Set: 92.33%\n",
      "Prediction output structure: (3000,) (Type: <class 'numpy.ndarray'>)\n"
     ]
    }
   ],
   "source": [
    "cnn_classifier = MnistClassifier(algorithm='cnn') \n",
    "\n",
    "# Train the model with specific PyTorch parameters\n",
    "cnn_classifier.train(X_train_sub, y_train_sub, epochs=2, batch_size=128)\n",
    "\n",
    "# Make predictions on the validation set\n",
    "cnn_predictions = cnn_classifier.predict(X_val)\n",
    "\n",
    "# Evaluate performance\n",
    "cnn_accuracy = accuracy_score(y_val, cnn_predictions)\n",
    "print(f\"\\nCNN Accuracy on Validation Set: {cnn_accuracy * 100:.2f}%\")\n",
    "print(f\"Prediction output structure: {cnn_predictions.shape} (Type: {type(cnn_predictions)})\")"
   ]
  },
  {
   "cell_type": "markdown",
   "id": "d4da39b9",
   "metadata": {},
   "source": [
    "# Edge Cases and Consistency Check"
   ]
  },
  {
   "cell_type": "markdown",
   "id": "872444d4",
   "metadata": {},
   "source": [
    "## Consistent Output Structure"
   ]
  },
  {
   "cell_type": "markdown",
   "id": "6060f755",
   "metadata": {},
   "source": [
    "Ensuring that the MnistClassifier class return a NumPy array of predictions with the same shape."
   ]
  },
  {
   "cell_type": "code",
   "execution_count": 19,
   "id": "da6ba530",
   "metadata": {},
   "outputs": [
    {
     "name": "stdout",
     "output_type": "stream",
     "text": [
      "RF Predictions Shape: (3000,), Data Type: int64\n",
      "NN Predictions Shape: (3000,), Data Type: int64\n",
      "CNN Predictions Shape: (3000,), Data Type: int64\n",
      "\n",
      "Sample Validation Image:\n"
     ]
    },
    {
     "data": {
      "image/png": "[encoded data removed]",
      "text/plain": [
       "<Figure size 640x480 with 1 Axes>"
      ]
     },
     "metadata": {},
     "output_type": "display_data"
    },
    {
     "name": "stdout",
     "output_type": "stream",
     "text": [
      "\n",
      "Model Predictions for sample #5:\n",
      "  Random Forest: 4\n",
      "  Feed-Forward NN: 4\n",
      "  CNN: 4\n"
     ]
    }
   ],
   "source": [
    "print(f\"RF Predictions Shape: {rf_predictions.shape}, Data Type: {rf_predictions.dtype}\")\n",
    "print(f\"NN Predictions Shape: {nn_predictions.shape}, Data Type: {nn_predictions.dtype}\")\n",
    "print(f\"CNN Predictions Shape: {cnn_predictions.shape}, Data Type: {cnn_predictions.dtype}\")\n",
    "\n",
    "# Display a sample of predictions from all models for visual inspection\n",
    "sample_index = 5\n",
    "print(\"\\nSample Validation Image:\")\n",
    "plt.imshow(X_val[sample_index], cmap='gray')\n",
    "plt.title(f\"True Label: {y_val[sample_index]}\")\n",
    "plt.axis('off')\n",
    "plt.show()\n",
    "\n",
    "print(f\"\\nModel Predictions for sample #{sample_index}:\")\n",
    "print(f\"  Random Forest: {rf_predictions[sample_index]}\")\n",
    "print(f\"  Feed-Forward NN: {nn_predictions[sample_index]}\")\n",
    "print(f\"  CNN: {cnn_predictions[sample_index]}\")"
   ]
  },
  {
   "cell_type": "markdown",
   "id": "8ca0cff2",
   "metadata": {},
   "source": [
    "## Invalid Algorithm Name"
   ]
  },
  {
   "cell_type": "markdown",
   "id": "7161490e",
   "metadata": {},
   "source": [
    "Attempting to initialize the MnistClassifier with an unknown algorithm should raise a ValueError, which is correctly handled in the class constructor."
   ]
  },
  {
   "cell_type": "code",
   "execution_count": 20,
   "id": "3ea51c91",
   "metadata": {},
   "outputs": [
    {
     "ename": "ValueError",
     "evalue": "Unknown algorithm: svm. Must be one of ['rf', 'nn', 'cnn']",
     "output_type": "error",
     "traceback": [
      "\u001b[0;31m---------------------------------------------------------------------------\u001b[0m",
      "\u001b[0;31mValueError\u001b[0m                                Traceback (most recent call last)",
      "Cell \u001b[0;32mIn[20], line 1\u001b[0m\n\u001b[0;32m----> 1\u001b[0m invalid_classifier \u001b[38;5;241m=\u001b[39m \u001b[43mMnistClassifier\u001b[49m\u001b[43m(\u001b[49m\u001b[43malgorithm\u001b[49m\u001b[38;5;241;43m=\u001b[39;49m\u001b[38;5;124;43m'\u001b[39;49m\u001b[38;5;124;43msvm\u001b[39;49m\u001b[38;5;124;43m'\u001b[39;49m\u001b[43m)\u001b[49m\n",
      "File \u001b[0;32m~/Desktop/Test Tasks/winstarsai-test-project/task_1_image_classification_oop/src/utils/classes/mnist_classifier.py:16\u001b[0m, in \u001b[0;36mMnistClassifier.__init__\u001b[0;34m(self, algorithm, **kwargs)\u001b[0m\n\u001b[1;32m      9\u001b[0m \u001b[38;5;250m\u001b[39m\u001b[38;5;124;03m\"\"\"\u001b[39;00m\n\u001b[1;32m     10\u001b[0m \u001b[38;5;124;03mInitializes the MnistClassifier with the chosen algorithm.\u001b[39;00m\n\u001b[1;32m     11\u001b[0m \u001b[38;5;124;03mArgs:\u001b[39;00m\n\u001b[1;32m     12\u001b[0m \u001b[38;5;124;03m    algorithm (str): The classification algorithm to use ('rf', 'nn', or 'cnn').\u001b[39;00m\n\u001b[1;32m     13\u001b[0m \u001b[38;5;124;03m    **kwargs: Arguments passed to the underlying model's constructor.\u001b[39;00m\n\u001b[1;32m     14\u001b[0m \u001b[38;5;124;03m\"\"\"\u001b[39;00m\n\u001b[1;32m     15\u001b[0m \u001b[38;5;28;01mif\u001b[39;00m algorithm \u001b[38;5;129;01mnot\u001b[39;00m \u001b[38;5;129;01min\u001b[39;00m ALGORITHMS:\n\u001b[0;32m---> 16\u001b[0m     \u001b[38;5;28;01mraise\u001b[39;00m \u001b[38;5;167;01mValueError\u001b[39;00m(\u001b[38;5;124mf\u001b[39m\u001b[38;5;124m\"\u001b[39m\u001b[38;5;124mUnknown algorithm: \u001b[39m\u001b[38;5;132;01m{\u001b[39;00malgorithm\u001b[38;5;132;01m}\u001b[39;00m\u001b[38;5;124m. Must be one of \u001b[39m\u001b[38;5;132;01m{\u001b[39;00m\u001b[38;5;28mlist\u001b[39m(ALGORITHMS\u001b[38;5;241m.\u001b[39mkeys())\u001b[38;5;132;01m}\u001b[39;00m\u001b[38;5;124m\"\u001b[39m)\n\u001b[1;32m     18\u001b[0m \u001b[38;5;28mself\u001b[39m\u001b[38;5;241m.\u001b[39malgorithm_name \u001b[38;5;241m=\u001b[39m algorithm\n\u001b[1;32m     19\u001b[0m \u001b[38;5;28mself\u001b[39m\u001b[38;5;241m.\u001b[39mclassifier_instance \u001b[38;5;241m=\u001b[39m ALGORITHMS[algorithm](\u001b[38;5;241m*\u001b[39m\u001b[38;5;241m*\u001b[39mkwargs)\n",
      "\u001b[0;31mValueError\u001b[0m: Unknown algorithm: svm. Must be one of ['rf', 'nn', 'cnn']"
     ]
    }
   ],
   "source": [
    "invalid_classifier = MnistClassifier(algorithm='svm')"
   ]
  },
  {
   "cell_type": "markdown",
   "id": "c94ad313",
   "metadata": {},
   "source": [
    "In result, proper ValueError was raised: Unknown algorithm: svm. Must be one of ['rf', 'nn', 'cnn']."
   ]
  },
  {
   "cell_type": "markdown",
   "id": "24677940",
   "metadata": {},
   "source": [
    "# Summary"
   ]
  },
  {
   "cell_type": "markdown",
   "id": "dec947c2",
   "metadata": {},
   "source": [
    "So, after set up of the project and loading the dataset, splitting to train and validation of dataset was done. As it is demo, only part of data was used for training (10000 samples). Then, 3 different models (such as: RandomForestClassifier, FeedForwardNN, CNN)  were used . In result, the best accuracy metric was reached by FeedForwardNN with lr=0.01, epochs=3 and batch_size=128 on validation dataset is 93.0%. Maybe each model can be further optimized and reach even better performance. For future experiments can be done: augmentation of images; changing architecture of the model; change loss function to another one. Moreover, created project successfully passed all tests and works as expected."
   ]
  }
 ],
 "metadata": {
  "kernelspec": {
   "display_name": "env_md_ml",
   "language": "python",
   "name": "python3"
  },
  "language_info": {
   "codemirror_mode": {
    "name": "ipython",
    "version": 3
   },
   "file_extension": ".py",
   "mimetype": "text/x-python",
   "name": "python",
   "nbconvert_exporter": "python",
   "pygments_lexer": "ipython3",
   "version": "3.11.13"
  }
 },
 "nbformat": 4,
 "nbformat_minor": 5
}
