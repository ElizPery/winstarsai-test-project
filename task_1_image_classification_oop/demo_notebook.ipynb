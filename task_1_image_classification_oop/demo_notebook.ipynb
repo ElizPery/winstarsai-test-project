{
 "cells": [
  {
   "cell_type": "markdown",
   "id": "6d918d95",
   "metadata": {},
   "source": [
    "# Import libraries"
   ]
  },
  {
   "cell_type": "markdown",
   "id": "f95b063d",
   "metadata": {},
   "source": [
    "Import all necessary libraries"
   ]
  },
  {
   "cell_type": "code",
   "execution_count": 1,
   "id": "3f6bee1d",
   "metadata": {},
   "outputs": [],
   "source": [
    "import sys\n",
    "import os\n",
    "import numpy as np\n",
    "from sklearn.model_selection import train_test_split\n",
    "from sklearn.metrics import accuracy_score\n",
    "import matplotlib.pyplot as plt"
   ]
  },
  {
   "cell_type": "markdown",
   "id": "a7185c1e",
   "metadata": {},
   "source": [
    "Now time to ensure that MnistClassifier and function load_and_transform_mnist_data is possible to import without errors."
   ]
  },
  {
   "cell_type": "code",
   "execution_count": 11,
   "id": "3f65db64",
   "metadata": {},
   "outputs": [
    {
     "name": "stdout",
     "output_type": "stream",
     "text": [
      "Successfully imported MnistClassifier.\n",
      "Successfully imported data loading helper.\n"
     ]
    }
   ],
   "source": [
    "# The import logic should work if 'mnist_classifier.py' is in the `src/utils/classes/` folder\n",
    "# and 'load_and_transform_mnist_data.py' is in the 'src/utils/' folder.\n",
    "try:\n",
    "    from src.utils.classes.mnist_classifier import MnistClassifier\n",
    "    print(\"Successfully imported MnistClassifier.\")\n",
    "except ImportError as e:\n",
    "    print(f\"Import Error: {e}\")\n",
    "    print(\"Ensure that 'src/utils/classes/mnist_classifier.py' is in the Python path.\")\n",
    "\n",
    "try:\n",
    "    from src.utils.load_and_transform_mnist_data import load_and_transform_mnist\n",
    "    print(\"Successfully imported data loading helper.\")\n",
    "except ImportError as e:\n",
    "    print(f\"Import Error: {e}\")\n",
    "    print(\"Ensure that 'src/utils/load_and_transform_mnist_data.py' is in the Python path.\")"
   ]
  },
  {
   "cell_type": "markdown",
   "id": "324d4d58",
   "metadata": {},
   "source": [
    "If error persists, please check the file paths and your PYTHONPATH environment variable.\n",
    "Then, import theese modules again."
   ]
  },
  {
   "cell_type": "code",
   "execution_count": 8,
   "id": "fb7cc14b",
   "metadata": {},
   "outputs": [],
   "source": [
    "from src.utils.classes.mnist_classifier import MnistClassifier\n",
    "from src.utils.load_and_transform_mnist_data import load_and_transform_mnist"
   ]
  },
  {
   "cell_type": "markdown",
   "id": "31016c14",
   "metadata": {},
   "source": [
    "# Data Loading"
   ]
  },
  {
   "cell_type": "code",
   "execution_count": 12,
   "id": "566e91c1",
   "metadata": {},
   "outputs": [
    {
     "name": "stderr",
     "output_type": "stream",
     "text": [
      "100%|██████████| 9.91M/9.91M [00:01<00:00, 7.53MB/s]\n",
      "100%|██████████| 28.9k/28.9k [00:00<00:00, 169kB/s]\n",
      "100%|██████████| 1.65M/1.65M [00:00<00:00, 2.79MB/s]\n",
      "100%|██████████| 4.54k/4.54k [00:00<00:00, 884kB/s]"
     ]
    },
    {
     "name": "stdout",
     "output_type": "stream",
     "text": [
      "Full Dataset Loaded: X_full shape (60000, 28, 28), y_full shape (60000,)\n"
     ]
    },
    {
     "name": "stderr",
     "output_type": "stream",
     "text": [
      "\n"
     ]
    }
   ],
   "source": [
    "X_full, y_full, X_test = load_and_transform_mnist()\n",
    "print(f\"Full Dataset Loaded: X_full shape {X_full.shape}, y_full shape {y_full.shape}\")"
   ]
  },
  {
   "cell_type": "markdown",
   "id": "f6dd3a3a",
   "metadata": {},
   "source": [
    "After successful splitting the dataset, the subset for quick training is created (for instance 10000 samples)."
   ]
  },
  {
   "cell_type": "code",
   "execution_count": 13,
   "id": "9d7c7243",
   "metadata": {},
   "outputs": [
    {
     "name": "stdout",
     "output_type": "stream",
     "text": [
      "------------------------------\n",
      "Subset for Demo Training: (7000, 28, 28)\n",
      "Subset for Demo Validation: (3000, 28, 28)\n",
      "------------------------------\n"
     ]
    }
   ],
   "source": [
    "# Prepare a subset for quick training demo (e.g., 5000 samples)\n",
    "SAMPLE_SIZE = 10000\n",
    "TEST_SIZE = 0.3\n",
    "\n",
    "# Create the training/validation split from the subset\n",
    "X_train_sub, X_val, y_train_sub, y_val = train_test_split(\n",
    "    X_full[:SAMPLE_SIZE], y_full[:SAMPLE_SIZE], test_size=TEST_SIZE, random_state=42, stratify=y_full[:SAMPLE_SIZE]\n",
    ")\n",
    "\n",
    "print(\"-\" * 30)\n",
    "print(f\"Subset for Demo Training: {X_train_sub.shape}\")\n",
    "print(f\"Subset for Demo Validation: {X_val.shape}\")\n",
    "print(\"-\" * 30)"
   ]
  }
 ],
 "metadata": {
  "kernelspec": {
   "display_name": "env_md_ml",
   "language": "python",
   "name": "python3"
  },
  "language_info": {
   "codemirror_mode": {
    "name": "ipython",
    "version": 3
   },
   "file_extension": ".py",
   "mimetype": "text/x-python",
   "name": "python",
   "nbconvert_exporter": "python",
   "pygments_lexer": "ipython3",
   "version": "3.11.13"
  }
 },
 "nbformat": 4,
 "nbformat_minor": 5
}
